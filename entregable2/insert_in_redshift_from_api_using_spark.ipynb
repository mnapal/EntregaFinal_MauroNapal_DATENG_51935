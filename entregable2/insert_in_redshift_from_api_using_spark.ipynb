{
 "cells": [
  {
   "cell_type": "code",
   "execution_count": 43,
   "id": "98d5e66b-ca36-4df3-bf42-5765d0796ffe",
   "metadata": {
    "tags": []
   },
   "outputs": [
    {
     "name": "stdout",
     "output_type": "stream",
     "text": [
      "Requirement already satisfied: yfinance in /opt/conda/lib/python3.10/site-packages (0.2.20)\n",
      "Requirement already satisfied: pandas>=1.3.0 in /opt/conda/lib/python3.10/site-packages (from yfinance) (2.0.0)\n",
      "Requirement already satisfied: numpy>=1.16.5 in /opt/conda/lib/python3.10/site-packages (from yfinance) (1.23.5)\n",
      "Requirement already satisfied: requests>=2.26 in /opt/conda/lib/python3.10/site-packages (from yfinance) (2.28.2)\n",
      "Requirement already satisfied: multitasking>=0.0.7 in /opt/conda/lib/python3.10/site-packages (from yfinance) (0.0.11)\n",
      "Requirement already satisfied: lxml>=4.9.1 in /opt/conda/lib/python3.10/site-packages (from yfinance) (4.9.2)\n",
      "Requirement already satisfied: appdirs>=1.4.4 in /opt/conda/lib/python3.10/site-packages (from yfinance) (1.4.4)\n",
      "Requirement already satisfied: pytz>=2022.5 in /opt/conda/lib/python3.10/site-packages (from yfinance) (2023.3)\n",
      "Requirement already satisfied: frozendict>=2.3.4 in /opt/conda/lib/python3.10/site-packages (from yfinance) (2.3.8)\n",
      "Requirement already satisfied: cryptography>=3.3.2 in /opt/conda/lib/python3.10/site-packages (from yfinance) (40.0.2)\n",
      "Requirement already satisfied: beautifulsoup4>=4.11.1 in /opt/conda/lib/python3.10/site-packages (from yfinance) (4.12.2)\n",
      "Requirement already satisfied: html5lib>=1.1 in /opt/conda/lib/python3.10/site-packages (from yfinance) (1.1)\n",
      "Requirement already satisfied: soupsieve>1.2 in /opt/conda/lib/python3.10/site-packages (from beautifulsoup4>=4.11.1->yfinance) (2.3.2.post1)\n",
      "Requirement already satisfied: cffi>=1.12 in /opt/conda/lib/python3.10/site-packages (from cryptography>=3.3.2->yfinance) (1.15.1)\n",
      "Requirement already satisfied: six>=1.9 in /opt/conda/lib/python3.10/site-packages (from html5lib>=1.1->yfinance) (1.16.0)\n",
      "Requirement already satisfied: webencodings in /opt/conda/lib/python3.10/site-packages (from html5lib>=1.1->yfinance) (0.5.1)\n",
      "Requirement already satisfied: python-dateutil>=2.8.2 in /opt/conda/lib/python3.10/site-packages (from pandas>=1.3.0->yfinance) (2.8.2)\n",
      "Requirement already satisfied: tzdata>=2022.1 in /opt/conda/lib/python3.10/site-packages (from pandas>=1.3.0->yfinance) (2023.3)\n",
      "Requirement already satisfied: charset-normalizer<4,>=2 in /opt/conda/lib/python3.10/site-packages (from requests>=2.26->yfinance) (3.1.0)\n",
      "Requirement already satisfied: idna<4,>=2.5 in /opt/conda/lib/python3.10/site-packages (from requests>=2.26->yfinance) (3.4)\n",
      "Requirement already satisfied: urllib3<1.27,>=1.21.1 in /opt/conda/lib/python3.10/site-packages (from requests>=2.26->yfinance) (1.26.15)\n",
      "Requirement already satisfied: certifi>=2017.4.17 in /opt/conda/lib/python3.10/site-packages (from requests>=2.26->yfinance) (2022.12.7)\n",
      "Requirement already satisfied: pycparser in /opt/conda/lib/python3.10/site-packages (from cffi>=1.12->cryptography>=3.3.2->yfinance) (2.21)\n"
     ]
    }
   ],
   "source": [
    "# instalo yfinance\n",
    "!pip install yfinance\n"
   ]
  },
  {
   "cell_type": "code",
   "execution_count": 44,
   "id": "fc7807fd-6eb9-4b09-8e69-a6831522cebe",
   "metadata": {
    "tags": []
   },
   "outputs": [
    {
     "data": {
      "text/plain": [
       "{'address1': '1 Tesla Road',\n",
       " 'city': 'Austin',\n",
       " 'state': 'TX',\n",
       " 'zip': '78725',\n",
       " 'country': 'United States',\n",
       " 'phone': '512 516 8177',\n",
       " 'website': 'https://www.tesla.com',\n",
       " 'industry': 'Auto Manufacturers',\n",
       " 'industryDisp': 'Auto Manufacturers',\n",
       " 'sector': 'Consumer Cyclical',\n",
       " 'longBusinessSummary': 'Tesla, Inc. designs, develops, manufactures, leases, and sells electric vehicles, and energy generation and storage systems in the United States, China, and internationally. It operates in two segments, Automotive, and Energy Generation and Storage. The Automotive segment offers electric vehicles, as well as sells automotive regulatory credits; and non-warranty after-sales vehicle, used vehicles, retail merchandise, and vehicle insurance services. This segment also provides sedans and sport utility vehicles through direct and used vehicle sales, a network of Tesla Superchargers, and in-app upgrades; purchase financing and leasing services; services for electric vehicles through its company-owned service locations and Tesla mobile service technicians; and vehicle limited warranties and extended service plans. The Energy Generation and Storage segment engages in the design, manufacture, installation, sale, and leasing of solar energy generation and energy storage products, and related services to residential, commercial, and industrial customers and utilities through its website, stores, and galleries, as well as through a network of channel partners; and provision of service and repairs to its energy product customers, including under warranty, as well as various financing options to its solar customers. The company was formerly known as Tesla Motors, Inc. and changed its name to Tesla, Inc. in February 2017. Tesla, Inc. was incorporated in 2003 and is headquartered in Austin, Texas.',\n",
       " 'fullTimeEmployees': 127855,\n",
       " 'companyOfficers': [{'maxAge': 1,\n",
       "   'name': 'Mr. Elon R. Musk',\n",
       "   'age': 50,\n",
       "   'title': 'Technoking of Tesla, CEO & Director',\n",
       "   'yearBorn': 1972,\n",
       "   'fiscalYear': 2022,\n",
       "   'totalPay': 0,\n",
       "   'exercisedValue': 0,\n",
       "   'unexercisedValue': 27819718656},\n",
       "  {'maxAge': 1,\n",
       "   'name': 'Mr. Zachary John Planell Kirkhorn',\n",
       "   'age': 36,\n",
       "   'title': 'Master of Coin & CFO',\n",
       "   'yearBorn': 1986,\n",
       "   'fiscalYear': 2022,\n",
       "   'totalPay': 303000,\n",
       "   'exercisedValue': 1258505,\n",
       "   'unexercisedValue': 205700880},\n",
       "  {'maxAge': 1,\n",
       "   'name': 'Mr. Andrew D. Baglino',\n",
       "   'age': 41,\n",
       "   'title': 'Sr. VP of Powertrain & Energy Engineering',\n",
       "   'yearBorn': 1981,\n",
       "   'fiscalYear': 2022,\n",
       "   'totalPay': 303000,\n",
       "   'exercisedValue': 33866368,\n",
       "   'unexercisedValue': 57355632},\n",
       "  {'maxAge': 1,\n",
       "   'name': 'Mr. Vaibhav  Taneja',\n",
       "   'age': 44,\n",
       "   'title': 'Corp. Controller & Chief Accounting Officer',\n",
       "   'yearBorn': 1978,\n",
       "   'exercisedValue': 0,\n",
       "   'unexercisedValue': 0},\n",
       "  {'maxAge': 1,\n",
       "   'name': 'Mr. Martin  Viecha',\n",
       "   'title': 'Sr. Director for Investor Relations',\n",
       "   'exercisedValue': 0,\n",
       "   'unexercisedValue': 0},\n",
       "  {'maxAge': 1,\n",
       "   'name': 'Mr. Alan  Prescott',\n",
       "   'age': 43,\n",
       "   'title': 'VP of Legal',\n",
       "   'yearBorn': 1979,\n",
       "   'exercisedValue': 0,\n",
       "   'unexercisedValue': 0},\n",
       "  {'maxAge': 1,\n",
       "   'name': 'Mr. Dave  Arnold',\n",
       "   'title': 'Sr. Director of Global Communications',\n",
       "   'exercisedValue': 0,\n",
       "   'unexercisedValue': 0},\n",
       "  {'maxAge': 1,\n",
       "   'name': 'Brian  Scelfo',\n",
       "   'title': 'Sr. Director of Corp. Devel.',\n",
       "   'exercisedValue': 0,\n",
       "   'unexercisedValue': 0},\n",
       "  {'maxAge': 1,\n",
       "   'name': 'Mr. Jeffrey B. Straubel',\n",
       "   'age': 46,\n",
       "   'title': 'Independent Director',\n",
       "   'yearBorn': 1976,\n",
       "   'fiscalYear': 2018,\n",
       "   'exercisedValue': 0,\n",
       "   'unexercisedValue': 0},\n",
       "  {'maxAge': 1,\n",
       "   'name': 'Mr. Franz  von Holzhausen',\n",
       "   'title': 'Chief Designer',\n",
       "   'exercisedValue': 0,\n",
       "   'unexercisedValue': 0}],\n",
       " 'auditRisk': 8,\n",
       " 'boardRisk': 10,\n",
       " 'compensationRisk': 8,\n",
       " 'shareHolderRightsRisk': 9,\n",
       " 'overallRisk': 9,\n",
       " 'governanceEpochDate': 1685577600,\n",
       " 'compensationAsOfEpochDate': 1672444800,\n",
       " 'maxAge': 86400,\n",
       " 'priceHint': 2,\n",
       " 'previousClose': 260.54,\n",
       " 'open': 261.5,\n",
       " 'dayLow': 261.12,\n",
       " 'dayHigh': 273.85,\n",
       " 'regularMarketPreviousClose': 260.54,\n",
       " 'regularMarketOpen': 261.5,\n",
       " 'regularMarketDayLow': 261.12,\n",
       " 'regularMarketDayHigh': 273.85,\n",
       " 'payoutRatio': 0.0,\n",
       " 'beta': 2.004225,\n",
       " 'trailingPE': 78.848465,\n",
       " 'forwardPE': 56.413235,\n",
       " 'volume': 150887602,\n",
       " 'regularMarketVolume': 150887602,\n",
       " 'averageVolume': 134619591,\n",
       " 'averageVolume10days': 165917010,\n",
       " 'averageDailyVolume10Day': 165917010,\n",
       " 'bid': 272.57,\n",
       " 'ask': 272.48,\n",
       " 'bidSize': 1200,\n",
       " 'askSize': 800,\n",
       " 'marketCap': 867188473856,\n",
       " 'fiftyTwoWeekLow': 101.81,\n",
       " 'fiftyTwoWeekHigh': 314.66666,\n",
       " 'priceToSalesTrailing12Months': 10.079485,\n",
       " 'fiftyDayAverage': 190.0574,\n",
       " 'twoHundredDayAverage': 195.79515,\n",
       " 'trailingAnnualDividendRate': 0.0,\n",
       " 'trailingAnnualDividendYield': 0.0,\n",
       " 'currency': 'USD',\n",
       " 'enterpriseValue': 810135650304,\n",
       " 'profitMargins': 0.13658,\n",
       " 'floatShares': 2709292276,\n",
       " 'sharesOutstanding': 3169499904,\n",
       " 'sharesShort': 91194312,\n",
       " 'sharesShortPriorMonth': 95005307,\n",
       " 'sharesShortPreviousMonthDate': 1682640000,\n",
       " 'dateShortInterest': 1685491200,\n",
       " 'sharesPercentSharesOut': 0.028800001,\n",
       " 'heldPercentInsiders': 0.1306,\n",
       " 'heldPercentInstitutions': 0.44891,\n",
       " 'shortRatio': 0.75,\n",
       " 'shortPercentOfFloat': 0.033099998,\n",
       " 'impliedSharesOutstanding': 0,\n",
       " 'bookValue': 15.164,\n",
       " 'priceToBook': 18.043009,\n",
       " 'lastFiscalYearEnd': 1672444800,\n",
       " 'nextFiscalYearEnd': 1703980800,\n",
       " 'mostRecentQuarter': 1680220800,\n",
       " 'earningsQuarterlyGrowth': -0.243,\n",
       " 'netIncomeToCommon': 11788000256,\n",
       " 'trailingEps': 3.47,\n",
       " 'forwardEps': 4.85,\n",
       " 'pegRatio': 7.06,\n",
       " 'lastSplitFactor': '3:1',\n",
       " 'lastSplitDate': 1661385600,\n",
       " 'enterpriseToRevenue': 9.416,\n",
       " 'enterpriseToEbitda': 48.61,\n",
       " '52WeekChange': 0.09915483,\n",
       " 'SandP52WeekChange': 0.1712712,\n",
       " 'exchange': 'NMS',\n",
       " 'quoteType': 'EQUITY',\n",
       " 'symbol': 'TSLA',\n",
       " 'underlyingSymbol': 'TSLA',\n",
       " 'shortName': 'Tesla, Inc.',\n",
       " 'longName': 'Tesla, Inc.',\n",
       " 'firstTradeDateEpochUtc': 1277818200,\n",
       " 'timeZoneFullName': 'America/New_York',\n",
       " 'timeZoneShortName': 'EDT',\n",
       " 'uuid': 'ec367bc4-f92c-397c-ac81-bf7b43cffaf7',\n",
       " 'messageBoardId': 'finmb_27444752',\n",
       " 'gmtOffSetMilliseconds': -14400000,\n",
       " 'currentPrice': 273.6042,\n",
       " 'targetHighPrice': 335.0,\n",
       " 'targetLowPrice': 24.33,\n",
       " 'targetMeanPrice': 194.84,\n",
       " 'targetMedianPrice': 200.0,\n",
       " 'recommendationMean': 2.5,\n",
       " 'recommendationKey': 'buy',\n",
       " 'numberOfAnalystOpinions': 35,\n",
       " 'totalCash': 22402000896,\n",
       " 'totalCashPerShare': 7.068,\n",
       " 'ebitda': 16666000384,\n",
       " 'totalDebt': 5574000128,\n",
       " 'quickRatio': 0.932,\n",
       " 'currentRatio': 1.567,\n",
       " 'totalRevenue': 86034997248,\n",
       " 'debtToEquity': 11.321,\n",
       " 'revenuePerShare': 27.35,\n",
       " 'returnOnAssets': 0.10428,\n",
       " 'returnOnEquity': 0.27991,\n",
       " 'grossProfits': 20853000000,\n",
       " 'freeCashflow': 2448250112,\n",
       " 'operatingCashflow': 13242000384,\n",
       " 'earningsGrowth': -0.232,\n",
       " 'revenueGrowth': 0.244,\n",
       " 'grossMargins': 0.23135,\n",
       " 'ebitdaMargins': 0.19371,\n",
       " 'operatingMargins': 0.14823,\n",
       " 'financialCurrency': 'USD',\n",
       " 'trailingPegRatio': 2.8806}"
      ]
     },
     "execution_count": 44,
     "metadata": {},
     "output_type": "execute_result"
    }
   ],
   "source": [
    "# obtengo los datos de Tesla\n",
    "import yfinance as yf\n",
    "tsla = yf.Ticker('TSLA')\n",
    "tsla.info\n"
   ]
  },
  {
   "cell_type": "code",
   "execution_count": 45,
   "id": "b3e9b9a3-a1dc-48da-929e-bcf20405841a",
   "metadata": {
    "tags": []
   },
   "outputs": [
    {
     "name": "stdout",
     "output_type": "stream",
     "text": [
      "<class 'pandas.core.frame.DataFrame'>\n",
      "RangeIndex: 251 entries, 0 to 250\n",
      "Data columns (total 8 columns):\n",
      " #   Column        Non-Null Count  Dtype                           \n",
      "---  ------        --------------  -----                           \n",
      " 0   Open          251 non-null    float64                         \n",
      " 1   High          251 non-null    float64                         \n",
      " 2   Low           251 non-null    float64                         \n",
      " 3   Close         251 non-null    float64                         \n",
      " 4   Volume        251 non-null    int64                           \n",
      " 5   Dividends     251 non-null    float64                         \n",
      " 6   Stock Splits  251 non-null    float64                         \n",
      " 7   Date          251 non-null    datetime64[ns, America/New_York]\n",
      "dtypes: datetime64[ns, America/New_York](1), float64(6), int64(1)\n",
      "memory usage: 15.8 KB\n"
     ]
    }
   ],
   "source": [
    "# obtengo datos\n",
    "cmp = yf.Ticker('TSLA')\n",
    "hist = cmp.history(period=\"1y\")\n",
    "hist['Date']=hist.index\n",
    "hist=hist.reset_index(drop=True)\n",
    "hist.info()\n"
   ]
  },
  {
   "cell_type": "code",
   "execution_count": 46,
   "id": "588a6c69-71ed-4c2b-98d5-7b1a17f9adb5",
   "metadata": {
    "tags": []
   },
   "outputs": [
    {
     "data": {
      "text/html": [
       "<div>\n",
       "<style scoped>\n",
       "    .dataframe tbody tr th:only-of-type {\n",
       "        vertical-align: middle;\n",
       "    }\n",
       "\n",
       "    .dataframe tbody tr th {\n",
       "        vertical-align: top;\n",
       "    }\n",
       "\n",
       "    .dataframe thead th {\n",
       "        text-align: right;\n",
       "    }\n",
       "</style>\n",
       "<table border=\"1\" class=\"dataframe\">\n",
       "  <thead>\n",
       "    <tr style=\"text-align: right;\">\n",
       "      <th></th>\n",
       "      <th>Open</th>\n",
       "      <th>High</th>\n",
       "      <th>Low</th>\n",
       "      <th>Close</th>\n",
       "      <th>Volume</th>\n",
       "      <th>Dividends</th>\n",
       "      <th>Stock Splits</th>\n",
       "      <th>Date</th>\n",
       "    </tr>\n",
       "  </thead>\n",
       "  <tbody>\n",
       "    <tr>\n",
       "      <th>0</th>\n",
       "      <td>224.603333</td>\n",
       "      <td>243.576660</td>\n",
       "      <td>224.333328</td>\n",
       "      <td>237.036667</td>\n",
       "      <td>122793000</td>\n",
       "      <td>0.0</td>\n",
       "      <td>0.0</td>\n",
       "      <td>2022-06-21 00:00:00-04:00</td>\n",
       "    </tr>\n",
       "    <tr>\n",
       "      <th>1</th>\n",
       "      <td>234.503326</td>\n",
       "      <td>246.833328</td>\n",
       "      <td>233.826660</td>\n",
       "      <td>236.086670</td>\n",
       "      <td>101107500</td>\n",
       "      <td>0.0</td>\n",
       "      <td>0.0</td>\n",
       "      <td>2022-06-22 00:00:00-04:00</td>\n",
       "    </tr>\n",
       "    <tr>\n",
       "      <th>2</th>\n",
       "      <td>237.906662</td>\n",
       "      <td>239.316666</td>\n",
       "      <td>228.636673</td>\n",
       "      <td>235.070007</td>\n",
       "      <td>104202600</td>\n",
       "      <td>0.0</td>\n",
       "      <td>0.0</td>\n",
       "      <td>2022-06-23 00:00:00-04:00</td>\n",
       "    </tr>\n",
       "    <tr>\n",
       "      <th>3</th>\n",
       "      <td>237.470001</td>\n",
       "      <td>246.066666</td>\n",
       "      <td>236.086670</td>\n",
       "      <td>245.706665</td>\n",
       "      <td>95770800</td>\n",
       "      <td>0.0</td>\n",
       "      <td>0.0</td>\n",
       "      <td>2022-06-24 00:00:00-04:00</td>\n",
       "    </tr>\n",
       "    <tr>\n",
       "      <th>4</th>\n",
       "      <td>249.366669</td>\n",
       "      <td>252.070007</td>\n",
       "      <td>242.566666</td>\n",
       "      <td>244.919998</td>\n",
       "      <td>89178300</td>\n",
       "      <td>0.0</td>\n",
       "      <td>0.0</td>\n",
       "      <td>2022-06-27 00:00:00-04:00</td>\n",
       "    </tr>\n",
       "  </tbody>\n",
       "</table>\n",
       "</div>"
      ],
      "text/plain": [
       "         Open        High         Low       Close     Volume  Dividends   \n",
       "0  224.603333  243.576660  224.333328  237.036667  122793000        0.0  \\\n",
       "1  234.503326  246.833328  233.826660  236.086670  101107500        0.0   \n",
       "2  237.906662  239.316666  228.636673  235.070007  104202600        0.0   \n",
       "3  237.470001  246.066666  236.086670  245.706665   95770800        0.0   \n",
       "4  249.366669  252.070007  242.566666  244.919998   89178300        0.0   \n",
       "\n",
       "   Stock Splits                      Date  \n",
       "0           0.0 2022-06-21 00:00:00-04:00  \n",
       "1           0.0 2022-06-22 00:00:00-04:00  \n",
       "2           0.0 2022-06-23 00:00:00-04:00  \n",
       "3           0.0 2022-06-24 00:00:00-04:00  \n",
       "4           0.0 2022-06-27 00:00:00-04:00  "
      ]
     },
     "execution_count": 46,
     "metadata": {},
     "output_type": "execute_result"
    }
   ],
   "source": [
    "\n",
    "hist.head(5)\n"
   ]
  },
  {
   "cell_type": "code",
   "execution_count": 47,
   "id": "634da2f2-8f7f-4fce-b555-525e1c45d9eb",
   "metadata": {
    "tags": []
   },
   "outputs": [
    {
     "name": "stdout",
     "output_type": "stream",
     "text": [
      "Requirement already satisfied: psycopg2-binary in /opt/conda/lib/python3.10/site-packages (2.9.6)\n"
     ]
    }
   ],
   "source": [
    "!pip install psycopg2-binary\n"
   ]
  },
  {
   "cell_type": "code",
   "execution_count": 48,
   "id": "fe258c32-79b3-4ae6-bf7a-c817705630e4",
   "metadata": {
    "tags": []
   },
   "outputs": [],
   "source": [
    "# creo una sesion de Spark\n",
    "import os\n",
    "import psycopg2\n",
    "\n",
    "from pyspark.sql import SparkSession\n",
    "from pyspark.sql.functions import when, lit, col\n",
    "\n",
    "# driver\n",
    "driver_path = \"/home/coder/working_dir/driver_jdbc/postgresql-42.2.27.jre7.jar\"\n",
    "\n",
    "os.environ['PYSPARK_SUBMIT_ARGS'] = f'--driver-class-path {driver_path} --jars {driver_path} pyspark-shell'\n",
    "os.environ['SPARK_CLASSPATH'] = driver_path\n",
    "\n",
    "# Create SparkSession \n",
    "spark = SparkSession.builder \\\n",
    "        .master(\"local\") \\\n",
    "        .appName(\"Conexion entre Pyspark y Redshift\") \\\n",
    "        .config(\"spark.jars\", driver_path) \\\n",
    "        .config(\"spark.executor.extraClassPath\", driver_path) \\\n",
    "        .getOrCreate()\n",
    "\n",
    "env = os.environ\n"
   ]
  },
  {
   "cell_type": "code",
   "execution_count": 49,
   "id": "5057f01a-4add-4ce6-a6d0-86c9e2e0096b",
   "metadata": {
    "tags": []
   },
   "outputs": [
    {
     "data": {
      "text/html": [
       "\n",
       "            <div>\n",
       "                <p><b>SparkSession - in-memory</b></p>\n",
       "                \n",
       "        <div>\n",
       "            <p><b>SparkContext</b></p>\n",
       "\n",
       "            <p><a href=\"http://ad0449523908:4040\">Spark UI</a></p>\n",
       "\n",
       "            <dl>\n",
       "              <dt>Version</dt>\n",
       "                <dd><code>v3.4.0</code></dd>\n",
       "              <dt>Master</dt>\n",
       "                <dd><code>local</code></dd>\n",
       "              <dt>AppName</dt>\n",
       "                <dd><code>Conexion entre Pyspark y Redshift</code></dd>\n",
       "            </dl>\n",
       "        </div>\n",
       "        \n",
       "            </div>\n",
       "        "
      ],
      "text/plain": [
       "<pyspark.sql.session.SparkSession at 0x7ffadc31bca0>"
      ]
     },
     "execution_count": 49,
     "metadata": {},
     "output_type": "execute_result"
    }
   ],
   "source": [
    "spark"
   ]
  },
  {
   "cell_type": "code",
   "execution_count": 86,
   "id": "c18b9ab9-50ec-4967-8160-febd59fe20ef",
   "metadata": {
    "tags": []
   },
   "outputs": [
    {
     "name": "stdout",
     "output_type": "stream",
     "text": [
      "Tabla creada!\n"
     ]
    }
   ],
   "source": [
    "# conecto a Redshift con psycopg2\n",
    "\n",
    "\n",
    "\n",
    "conn = psycopg2.connect(\n",
    "    host=env['AWS_REDSHIFT_HOST'],\n",
    "    port=env['AWS_REDSHIFT_PORT'],\n",
    "    dbname=env['AWS_REDSHIFT_DBNAME'],\n",
    "    user=env['AWS_REDSHIFT_USER'],\n",
    "    password=env['AWS_REDSHIFT_PASSWORD']\n",
    ")\n",
    "\n",
    "# creo la tabla\n",
    "table_name='entregable2_tsla'\n",
    "cursor = conn.cursor()\n",
    "cursor.execute(f\"\"\"drop table if exists {env['AWS_REDSHIFT_USER']}.{table_name}\"\"\")\n",
    "conn.commit()\n",
    "create_query=f\"\"\"CREATE TABLE IF NOT EXISTS {env['AWS_REDSHIFT_USER']}.{table_name}\n",
    "    (openn numeric(10,2) \n",
    "    ,high numeric(10,2)\n",
    "    ,low numeric(10,2)\n",
    "    ,close  numeric(10,2) \n",
    "    ,date TIMESTAMP WITHOUT TIME ZONE distkey\n",
    "    ,difference numeric(10,2)) sortkey(date);\"\"\"\n",
    "cursor.execute(create_query)\n",
    "conn.commit()\n",
    "\n",
    "# verifico si se creo la tabla\n",
    "ctrl_query=f\"\"\"SELECT distinct tablename FROM PG_TABLE_DEF WHERE schemaname = '{env['AWS_REDSHIFT_SCHEMA']}' and tablename = '{table_name}';\"\"\"\n",
    "cursor.execute(ctrl_query)\n",
    "tabla = cursor.fetchall()\n",
    "if table_name == tabla[0][0]:\n",
    "    print(\"Tabla creada!\")\n",
    "else:               \n",
    "    print(\"Error al crear la tabla.\")\n",
    "cursor.close()\n",
    "conn.close()\n"
   ]
  },
  {
   "cell_type": "code",
   "execution_count": 81,
   "id": "aace181c-98b7-478b-9f63-75be9fed430c",
   "metadata": {
    "tags": []
   },
   "outputs": [
    {
     "name": "stdout",
     "output_type": "stream",
     "text": [
      "root\n",
      " |-- Open: double (nullable = true)\n",
      " |-- High: double (nullable = true)\n",
      " |-- low: double (nullable = true)\n",
      " |-- close: double (nullable = true)\n",
      " |-- date: timestamp (nullable = true)\n",
      " |-- Difference: double (nullable = true)\n",
      "\n",
      "+-------+-----------------+-----------------+------------------+------------------+-------------------+\n",
      "|summary|             Open|             High|               low|             close|         Difference|\n",
      "+-------+-----------------+-----------------+------------------+------------------+-------------------+\n",
      "|  count|              251|              251|               251|               251|                251|\n",
      "|   mean|210.4869188407503|215.3294553414759| 205.4621510296704|210.56319406213038|0.07627522138010458|\n",
      "| stddev|51.34241739858609|52.04538847697913| 50.69535532742428| 51.35121647917801|  6.531008409968428|\n",
      "|    min|            103.0|           111.75|101.80999755859375| 108.0999984741211|-19.019989013671875|\n",
      "|    max|311.6666564941406|314.6666564941406| 305.5799865722656|309.32000732421875|  17.30999755859375|\n",
      "+-------+-----------------+-----------------+------------------+------------------+-------------------+\n",
      "\n",
      "+------------------+------------------+------------------+------------------+-------------------+-------------------+\n",
      "|              Open|              High|               low|             close|               date|         Difference|\n",
      "+------------------+------------------+------------------+------------------+-------------------+-------------------+\n",
      "|224.60333251953125|   243.57666015625| 224.3333282470703| 237.0366668701172|2022-06-21 04:00:00| 12.433334350585938|\n",
      "|234.50332641601562| 246.8333282470703|   233.82666015625|  236.086669921875|2022-06-22 04:00:00|  1.583343505859375|\n",
      "| 237.9066619873047|239.31666564941406| 228.6366729736328|235.07000732421875|2022-06-23 04:00:00|-2.8366546630859375|\n",
      "|237.47000122070312|246.06666564941406|  236.086669921875| 245.7066650390625|2022-06-24 04:00:00|  8.236663818359375|\n",
      "|249.36666870117188|252.07000732421875|242.56666564941406| 244.9199981689453|2022-06-27 04:00:00|-4.4466705322265625|\n",
      "|244.48333740234375|249.97000122070312| 232.3433380126953|  232.663330078125|2022-06-28 04:00:00| -11.82000732421875|\n",
      "|             230.5|   231.17333984375|222.27333068847656|228.49000549316406|2022-06-29 04:00:00|-2.0099945068359375|\n",
      "|224.50999450683594| 229.4566650390625| 218.8633270263672|224.47332763671875|2022-06-30 04:00:00|-0.0366668701171875|\n",
      "|             227.0|230.22999572753906| 222.1199951171875|227.26333618164062|2022-07-01 04:00:00|  0.263336181640625|\n",
      "|             223.0|233.14666748046875| 216.1666717529297|233.06666564941406|2022-07-05 04:00:00| 10.066665649414062|\n",
      "|230.77999877929688|234.56333923339844|227.18666076660156|231.73333740234375|2022-07-06 04:00:00|  0.953338623046875|\n",
      "| 233.9199981689453| 245.3633270263672| 232.2100067138672| 244.5433349609375|2022-07-07 04:00:00| 10.623336791992188|\n",
      "| 242.3333282470703|254.97999572753906|241.16000366210938|250.76333618164062|2022-07-08 04:00:00|  8.430007934570312|\n",
      "|252.10333251953125|253.06333923339844| 233.6266632080078| 234.3433380126953|2022-07-11 04:00:00|-17.759994506835938|\n",
      "|236.84666442871094|239.77333068847656| 228.3699951171875|233.07000732421875|2022-07-12 04:00:00|-3.7766571044921875|\n",
      "|             225.5|242.05999755859375|225.03334045410156| 237.0399932861328|2022-07-13 04:00:00| 11.539993286132812|\n",
      "|234.89666748046875|238.65333557128906| 229.3333282470703|238.31333923339844|2022-07-14 04:00:00| 3.4166717529296875|\n",
      "|             240.0| 243.6233367919922|236.88999938964844|240.06666564941406|2022-07-15 04:00:00| 0.0666656494140625|\n",
      "|244.93666076660156|250.51666259765625|239.60333251953125|240.54666137695312|2022-07-18 04:00:00|-4.3899993896484375|\n",
      "|             245.0|247.13999938964844|236.97666931152344|245.52999877929688|2022-07-19 04:00:00|  0.529998779296875|\n",
      "+------------------+------------------+------------------+------------------+-------------------+-------------------+\n",
      "only showing top 20 rows\n",
      "\n"
     ]
    }
   ],
   "source": [
    "# creo un dataframe \n",
    "df = spark.createDataFrame(hist, ['Open','High','low','close','v','d','s','date'])\n",
    "\n",
    "# selecciono las columnas\n",
    "df = df.select('Open','High','low','close','date')\n",
    "df = df.withColumn('Difference', col('close') - col('Open'))\n",
    "\n",
    "df.printSchema()\n",
    "df.describe().show()\n",
    "df.show()\n"
   ]
  },
  {
   "cell_type": "code",
   "execution_count": 87,
   "id": "9c52c443-7893-4577-afbd-f15808bdab8f",
   "metadata": {
    "tags": []
   },
   "outputs": [
    {
     "name": "stdout",
     "output_type": "stream",
     "text": [
      "root\n",
      " |-- openn: decimal(10,2) (nullable = true)\n",
      " |-- High: decimal(10,2) (nullable = true)\n",
      " |-- low: decimal(10,2) (nullable = true)\n",
      " |-- close: decimal(10,2) (nullable = true)\n",
      " |-- date: timestamp (nullable = true)\n",
      " |-- Difference: decimal(10,2) (nullable = true)\n",
      "\n",
      "+------+------+------+------+-------------------+----------+\n",
      "| openn|  High|   low| close|               date|Difference|\n",
      "+------+------+------+------+-------------------+----------+\n",
      "|224.60|243.58|224.33|237.04|2022-06-21 04:00:00|     12.43|\n",
      "|234.50|246.83|233.83|236.09|2022-06-22 04:00:00|      1.58|\n",
      "|237.91|239.32|228.64|235.07|2022-06-23 04:00:00|     -2.84|\n",
      "|237.47|246.07|236.09|245.71|2022-06-24 04:00:00|      8.24|\n",
      "|249.37|252.07|242.57|244.92|2022-06-27 04:00:00|     -4.45|\n",
      "|244.48|249.97|232.34|232.66|2022-06-28 04:00:00|    -11.82|\n",
      "|230.50|231.17|222.27|228.49|2022-06-29 04:00:00|     -2.01|\n",
      "|224.51|229.46|218.86|224.47|2022-06-30 04:00:00|     -0.04|\n",
      "|227.00|230.23|222.12|227.26|2022-07-01 04:00:00|      0.26|\n",
      "|223.00|233.15|216.17|233.07|2022-07-05 04:00:00|     10.07|\n",
      "|230.78|234.56|227.19|231.73|2022-07-06 04:00:00|      0.95|\n",
      "|233.92|245.36|232.21|244.54|2022-07-07 04:00:00|     10.62|\n",
      "|242.33|254.98|241.16|250.76|2022-07-08 04:00:00|      8.43|\n",
      "|252.10|253.06|233.63|234.34|2022-07-11 04:00:00|    -17.76|\n",
      "|236.85|239.77|228.37|233.07|2022-07-12 04:00:00|     -3.78|\n",
      "|225.50|242.06|225.03|237.04|2022-07-13 04:00:00|     11.54|\n",
      "|234.90|238.65|229.33|238.31|2022-07-14 04:00:00|      3.42|\n",
      "|240.00|243.62|236.89|240.07|2022-07-15 04:00:00|      0.07|\n",
      "|244.94|250.52|239.60|240.55|2022-07-18 04:00:00|     -4.39|\n",
      "|245.00|247.14|236.98|245.53|2022-07-19 04:00:00|      0.53|\n",
      "+------+------+------+------+-------------------+----------+\n",
      "only showing top 20 rows\n",
      "\n"
     ]
    },
    {
     "data": {
      "text/plain": [
       "251"
      ]
     },
     "execution_count": 87,
     "metadata": {},
     "output_type": "execute_result"
    }
   ],
   "source": [
    "# doy formato a las columnas\n",
    "from pyspark.sql.types import DecimalType\n",
    "\n",
    "df=df.withColumn(\"Open\", df[\"Open\"].cast(DecimalType(precision=10, scale=2)))\n",
    "df=df.withColumn(\"High\", df[\"High\"].cast(DecimalType(precision=10, scale=2)))\n",
    "df=df.withColumn(\"low\", df[\"low\"].cast(DecimalType(precision=10, scale=2)))\n",
    "df=df.withColumn(\"close\", df[\"close\"].cast(DecimalType(precision=10, scale=2)))\n",
    "df=df.withColumn(\"Difference\", df[\"Difference\"].cast(DecimalType(precision=10, scale=2)))\n",
    "\n",
    "# cambio el nombre de la columna open\n",
    "df=df.withColumnRenamed(\"Open\", \"openn\")\n",
    "\n",
    "df.printSchema()\n",
    "df.show()\n",
    "df.count()\n"
   ]
  },
  {
   "cell_type": "code",
   "execution_count": 88,
   "id": "365d8e39-f308-4e38-a4e2-9d5c47f4e161",
   "metadata": {
    "tags": []
   },
   "outputs": [
    {
     "data": {
      "text/plain": [
       "251"
      ]
     },
     "execution_count": 88,
     "metadata": {},
     "output_type": "execute_result"
    }
   ],
   "source": [
    "# elimino las ocurrencias duplicadas\n",
    "from pyspark.sql.functions import col\n",
    "dfo=df.dropDuplicates([\"date\"])\n",
    "dfo.count()\n"
   ]
  },
  {
   "cell_type": "code",
   "execution_count": 89,
   "id": "b0a98993-4ce0-4f4b-9b8e-384d014c3730",
   "metadata": {
    "tags": []
   },
   "outputs": [],
   "source": [
    "# guardo los datos en la tabla\n",
    "df.write.format('jdbc') \\\n",
    "    .option(\"url\", f\"jdbc:postgresql://{env['AWS_REDSHIFT_HOST']}:{env['AWS_REDSHIFT_PORT']}/{env['AWS_REDSHIFT_DBNAME']}\") \\\n",
    "    .option(\"dbtable\", f\"{env['AWS_REDSHIFT_SCHEMA']}.{table_name}\") \\\n",
    "    .option(\"user\", env['AWS_REDSHIFT_USER']) \\\n",
    "    .option(\"password\", env['AWS_REDSHIFT_PASSWORD']) \\\n",
    "    .option(\"driver\", \"org.postgresql.Driver\") \\\n",
    "    .mode(\"append\") \\\n",
    "    .save()\n",
    "\n",
    " "
   ]
  },
  {
   "cell_type": "code",
   "execution_count": 90,
   "id": "1975a4cd-48c8-4c48-b4d3-9b22bc562514",
   "metadata": {
    "tags": []
   },
   "outputs": [],
   "source": [
    "# verifico los datos guardados \n",
    "query = f\"select * from {env['AWS_REDSHIFT_SCHEMA']}.{table_name}\"\n",
    "df_db = spark.read \\\n",
    "    .format(\"jdbc\") \\\n",
    "    .option(\"url\", f\"jdbc:postgresql://{env['AWS_REDSHIFT_HOST']}:{env['AWS_REDSHIFT_PORT']}/{env['AWS_REDSHIFT_DBNAME']}\") \\\n",
    "    .option(\"dbtable\", f\"({query}) as t1\") \\\n",
    "    .option(\"user\", env['AWS_REDSHIFT_USER']) \\\n",
    "    .option(\"password\", env['AWS_REDSHIFT_PASSWORD']) \\\n",
    "    .option(\"driver\", \"org.postgresql.Driver\") \\\n",
    "    .load()\n",
    "    "
   ]
  },
  {
   "cell_type": "code",
   "execution_count": 91,
   "id": "4dce58e1-3033-46d1-9a28-515cfa7fcd3a",
   "metadata": {
    "tags": []
   },
   "outputs": [
    {
     "name": "stdout",
     "output_type": "stream",
     "text": [
      "root\n",
      " |-- openn: decimal(10,2) (nullable = true)\n",
      " |-- high: decimal(10,2) (nullable = true)\n",
      " |-- low: decimal(10,2) (nullable = true)\n",
      " |-- close: decimal(10,2) (nullable = true)\n",
      " |-- date: timestamp (nullable = true)\n",
      " |-- difference: decimal(10,2) (nullable = true)\n",
      "\n",
      "+------+------+------+------+-------------------+----------+\n",
      "| openn|  high|   low| close|               date|difference|\n",
      "+------+------+------+------+-------------------+----------+\n",
      "|224.51|229.46|218.86|224.47|2022-06-30 04:00:00|     -0.04|\n",
      "|233.92|245.36|232.21|244.54|2022-07-07 04:00:00|     10.62|\n",
      "|242.33|254.98|241.16|250.76|2022-07-08 04:00:00|      8.43|\n",
      "|252.10|253.06|233.63|234.34|2022-07-11 04:00:00|    -17.76|\n",
      "|225.50|242.06|225.03|237.04|2022-07-13 04:00:00|     11.54|\n",
      "|240.00|243.62|236.89|240.07|2022-07-15 04:00:00|      0.07|\n",
      "|244.94|250.52|239.60|240.55|2022-07-18 04:00:00|     -4.39|\n",
      "|245.00|247.14|236.98|245.53|2022-07-19 04:00:00|      0.53|\n",
      "|276.22|280.79|270.71|272.24|2022-07-22 04:00:00|     -3.98|\n",
      "|272.22|274.15|267.40|268.43|2022-07-25 04:00:00|     -3.78|\n",
      "|266.51|267.31|256.26|258.86|2022-07-26 04:00:00|     -7.65|\n",
      "|263.81|275.93|261.79|274.82|2022-07-27 04:00:00|     11.01|\n",
      "|280.07|283.30|272.80|280.90|2022-07-28 04:00:00|      0.83|\n",
      "|294.00|307.83|292.67|300.59|2022-08-02 04:00:00|      6.58|\n",
      "|311.00|313.61|305.00|308.63|2022-08-04 04:00:00|     -2.37|\n",
      "|290.29|292.40|279.35|283.33|2022-08-09 04:00:00|     -6.96|\n",
      "|289.42|300.16|285.03|300.03|2022-08-12 04:00:00|     10.61|\n",
      "|306.00|306.50|301.85|302.87|2022-08-18 04:00:00|     -3.13|\n",
      "|299.00|300.36|292.50|296.67|2022-08-19 04:00:00|     -2.33|\n",
      "|302.36|302.96|291.60|296.07|2022-08-25 04:00:00|     -6.29|\n",
      "+------+------+------+------+-------------------+----------+\n",
      "only showing top 20 rows\n",
      "\n"
     ]
    },
    {
     "data": {
      "text/plain": [
       "251"
      ]
     },
     "execution_count": 91,
     "metadata": {},
     "output_type": "execute_result"
    }
   ],
   "source": [
    "# verifico el formato de los datos guardados\n",
    "\n",
    "df_db.printSchema()\n",
    "df_db.show()\n",
    "df_db.count()\n"
   ]
  },
  {
   "cell_type": "code",
   "execution_count": null,
   "id": "a92ea18e-aa40-4cca-aecf-ead9f3fe228b",
   "metadata": {},
   "outputs": [],
   "source": []
  },
  {
   "cell_type": "code",
   "execution_count": null,
   "id": "996cf0c4-fc86-4884-9a1e-d21160c62dfc",
   "metadata": {},
   "outputs": [],
   "source": []
  }
 ],
 "metadata": {
  "kernelspec": {
   "display_name": "Python 3 (ipykernel)",
   "language": "python",
   "name": "python3"
  },
  "language_info": {
   "codemirror_mode": {
    "name": "ipython",
    "version": 3
   },
   "file_extension": ".py",
   "mimetype": "text/x-python",
   "name": "python",
   "nbconvert_exporter": "python",
   "pygments_lexer": "ipython3",
   "version": "3.10.10"
  }
 },
 "nbformat": 4,
 "nbformat_minor": 5
}
